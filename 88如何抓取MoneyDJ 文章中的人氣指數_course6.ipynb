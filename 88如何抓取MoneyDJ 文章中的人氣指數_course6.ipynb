{
 "cells": [
  {
   "cell_type": "code",
   "execution_count": 1,
   "metadata": {
    "collapsed": false
   },
   "outputs": [
    {
     "name": "stdout",
     "output_type": "stream",
     "text": [
      "{\"counts\":[{\"count\":5996,\"guid\":\"9813fc3b-151e-4330-94fc-41f70296cade\",\"svc\":\"NV\"}]}\n"
     ]
    }
   ],
   "source": [
    "import requests\n",
    "url = \"https://www.moneydj.com/InfoSvc/apis/vc\"\n",
    "payload ='{\"counts\":[{\"svc\":\"NV\",\"guid\":\"9813fc3b-151e-4330-94fc-41f70296cade\"}]}'\n",
    "head = {'Content-Type':'application/json'}\n",
    "res = requests.post(url, data = payload, headers = head)\n",
    "print(res.text)"
   ]
  }
 ],
 "metadata": {
  "anaconda-cloud": {},
  "kernelspec": {
   "display_name": "Python [conda root]",
   "language": "python",
   "name": "conda-root-py"
  },
  "language_info": {
   "codemirror_mode": {
    "name": "ipython",
    "version": 3
   },
   "file_extension": ".py",
   "mimetype": "text/x-python",
   "name": "python",
   "nbconvert_exporter": "python",
   "pygments_lexer": "ipython3",
   "version": "3.5.2"
  }
 },
 "nbformat": 4,
 "nbformat_minor": 1
}
