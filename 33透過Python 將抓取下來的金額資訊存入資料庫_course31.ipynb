{
 "cells": [
  {
   "cell_type": "code",
   "execution_count": 2,
   "metadata": {
    "collapsed": false
   },
   "outputs": [
    {
     "name": "stderr",
     "output_type": "stream",
     "text": [
      "C:\\Program Files\\Anaconda3\\lib\\site-packages\\bs4\\__init__.py:181: UserWarning: No parser was explicitly specified, so I'm using the best available HTML parser for this system (\"lxml\"). This usually isn't a problem, but if you run this code on another system, or in a different virtual environment, it may use a different parser and behave differently.\n",
      "\n",
      "The code that caused this warning is on line 184 of the file C:\\Program Files\\Anaconda3\\lib\\runpy.py. To get rid of this warning, change code that looks like this:\n",
      "\n",
      " BeautifulSoup([your markup])\n",
      "\n",
      "to this:\n",
      "\n",
      " BeautifulSoup([your markup], \"lxml\")\n",
      "\n",
      "  markup_type=markup_type))\n"
     ]
    }
   ],
   "source": [
    "import requests\n",
    "from bs4 import BeautifulSoup\n",
    "from datetime import date,timedelta\n",
    "import sqlite3 as lite\n",
    "\n",
    "url = 'http://www.twse.com.tw/ch/trading/fund/BFI82U/BFI82U.php?download=&queryDWM=by_issueD&qdate={0}&query_yearW=2017&query_week=20170206&query_yearM=2017&query_monthM=2'\n",
    "sql = (\"insert into InvestorTradingValue\"\n",
    "           \"(item, total_buy, total_sell, difference, date)\"\n",
    "           \"values(?,?,?,?,?)\")\n",
    "def money_conversion(input_ele):\n",
    "    return int(''.join(input_ele.split(',')))\n",
    "def getTradeValue(cur, today):\n",
    "    dayary=str(today).split('-')\n",
    "    dt = '%2F'.join([str(int(dayary[0])-1911),dayary[1],dayary[2]])\n",
    "    res = requests.get(url.format(dt))\n",
    "    soup = BeautifulSoup(res.text)\n",
    "    for tr in soup.select('table tr')[2:]:\n",
    "        td = tr.select('td')\n",
    "        ret=[td[0].text,\n",
    "             money_conversion(td[1].text),\n",
    "             money_conversion(td[2].text),\n",
    "             money_conversion(td[3].text),\n",
    "             today,]\n",
    "        cur.execute(sql,ret)\n",
    "\n",
    "con = lite.connect('C:/Users/MT4/Documents/finance.sqlite')\n",
    "cur = con.cursor()\n",
    "\n",
    "\n",
    "today = date.today()    \n",
    "for i in range(1,3):\n",
    "    today = today+timedelta(days=-1)    \n",
    "    getTradeValue(cur,today)\n",
    "con.commit()\n",
    "con.close()"
   ]
  },
  {
   "cell_type": "code",
   "execution_count": null,
   "metadata": {
    "collapsed": true
   },
   "outputs": [],
   "source": [
    "#cur.execute(\"select * from InvestorTradingValue\")\n",
    "#ret = cur.fetchone()\n",
    "#print(ret)\n",
    "cur.execute(\"insert into InvestorTradingValue\"\n",
    "           \"(item, total_buy, total_sell, difference, date)\"\n",
    "           \"values('foreign',20,30,-10,'2099-09-09')\")"
   ]
  },
  {
   "cell_type": "code",
   "execution_count": null,
   "metadata": {
    "collapsed": true
   },
   "outputs": [],
   "source": [
    "\n"
   ]
  },
  {
   "cell_type": "code",
   "execution_count": null,
   "metadata": {
    "collapsed": true
   },
   "outputs": [],
   "source": []
  }
 ],
 "metadata": {
  "anaconda-cloud": {},
  "kernelspec": {
   "display_name": "Python [conda root]",
   "language": "python",
   "name": "conda-root-py"
  },
  "language_info": {
   "codemirror_mode": {
    "name": "ipython",
    "version": 3
   },
   "file_extension": ".py",
   "mimetype": "text/x-python",
   "name": "python",
   "nbconvert_exporter": "python",
   "pygments_lexer": "ipython3",
   "version": "3.5.2"
  }
 },
 "nbformat": 4,
 "nbformat_minor": 1
}
