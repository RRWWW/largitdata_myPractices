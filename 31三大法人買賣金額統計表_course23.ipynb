{
 "cells": [
  {
   "cell_type": "code",
   "execution_count": 8,
   "metadata": {
    "collapsed": false
   },
   "outputs": [
    {
     "name": "stderr",
     "output_type": "stream",
     "text": [
      "C:\\Program Files\\Anaconda3\\lib\\site-packages\\bs4\\__init__.py:181: UserWarning: No parser was explicitly specified, so I'm using the best available HTML parser for this system (\"lxml\"). This usually isn't a problem, but if you run this code on another system, or in a different virtual environment, it may use a different parser and behave differently.\n",
      "\n",
      "The code that caused this warning is on line 184 of the file C:\\Program Files\\Anaconda3\\lib\\runpy.py. To get rid of this warning, change code that looks like this:\n",
      "\n",
      " BeautifulSoup([your markup])\n",
      "\n",
      "to this:\n",
      "\n",
      " BeautifulSoup([your markup], \"lxml\")\n",
      "\n",
      "  markup_type=markup_type))\n"
     ]
    },
    {
     "name": "stdout",
     "output_type": "stream",
     "text": [
      "自營商(自行買賣) 2,240,712,830 1,480,919,909 759,792,921\n",
      "自營商(避險) 5,198,727,805 4,801,628,248 397,099,557\n",
      "投信 2,013,869,990 1,519,688,470 494,181,520\n",
      "外資及陸資 41,627,237,488 35,997,600,322 5,629,637,166\n",
      "合計 51,080,548,113 43,799,836,949 7,280,711,164\n",
      "自營商(自行買賣) 2,240,712,830 1,480,919,909 759,792,921\n",
      "自營商(避險) 5,198,727,805 4,801,628,248 397,099,557\n",
      "投信 2,013,869,990 1,519,688,470 494,181,520\n",
      "外資及陸資 41,627,237,488 35,997,600,322 5,629,637,166\n",
      "合計 51,080,548,113 43,799,836,949 7,280,711,164\n",
      "自營商(自行買賣) 2,240,712,830 1,480,919,909 759,792,921\n",
      "自營商(避險) 5,198,727,805 4,801,628,248 397,099,557\n",
      "投信 2,013,869,990 1,519,688,470 494,181,520\n",
      "外資及陸資 41,627,237,488 35,997,600,322 5,629,637,166\n",
      "合計 51,080,548,113 43,799,836,949 7,280,711,164\n"
     ]
    }
   ],
   "source": [
    "import requests\n",
    "from bs4 import BeautifulSoup\n",
    "from datetime import date,timedelta\n",
    "url = 'http://www.twse.com.tw/ch/trading/fund/BFI82U/BFI82U.php?download=&queryDWM=by_issueD&qdate={0}&query_yearW=2017&query_week=20170206&query_yearM=2017&query_monthM=2'\n",
    "def getTradeValue(dt):\n",
    "    res = requests.get(url.format(dt))\n",
    "    soup = BeautifulSoup(res.text)\n",
    "    for tr in soup.select('table tr')[2:]:\n",
    "        td = tr.select('td')\n",
    "        print(td[0].text,td[1].text,td[2].text,td[3].text)\n",
    "today = date.today()    \n",
    "for i in range(1,4):\n",
    "    today = today+timedelta(days=-1)\n",
    "    dayary=str(today).split('-')\n",
    "    dt = '%2F'.join([str(int(dayary[0])-1911),dayary[1],dayary[2]])\n",
    "    getTradeValue(dt)"
   ]
  },
  {
   "cell_type": "code",
   "execution_count": 14,
   "metadata": {
    "collapsed": false
   },
   "outputs": [
    {
     "name": "stderr",
     "output_type": "stream",
     "text": [
      "C:\\Program Files\\Anaconda3\\lib\\site-packages\\bs4\\__init__.py:181: UserWarning: No parser was explicitly specified, so I'm using the best available HTML parser for this system (\"lxml\"). This usually isn't a problem, but if you run this code on another system, or in a different virtual environment, it may use a different parser and behave differently.\n",
      "\n",
      "The code that caused this warning is on line 184 of the file C:\\Program Files\\Anaconda3\\lib\\runpy.py. To get rid of this warning, change code that looks like this:\n",
      "\n",
      " BeautifulSoup([your markup])\n",
      "\n",
      "to this:\n",
      "\n",
      " BeautifulSoup([your markup], \"lxml\")\n",
      "\n",
      "  markup_type=markup_type))\n"
     ]
    },
    {
     "name": "stdout",
     "output_type": "stream",
     "text": [
      "2017-02-10 自營商(自行買賣) 2240712830 1480919909 759792921\n",
      "2017-02-10 自營商(避險) 5198727805 4801628248 397099557\n",
      "2017-02-10 投信 2013869990 1519688470 494181520\n",
      "2017-02-10 外資及陸資 41627237488 35997600322 5629637166\n",
      "2017-02-10 合計 51080548113 43799836949 7280711164\n",
      "2017-02-09 自營商(自行買賣) 2240712830 1480919909 759792921\n",
      "2017-02-09 自營商(避險) 5198727805 4801628248 397099557\n",
      "2017-02-09 投信 2013869990 1519688470 494181520\n",
      "2017-02-09 外資及陸資 41627237488 35997600322 5629637166\n",
      "2017-02-09 合計 51080548113 43799836949 7280711164\n",
      "2017-02-08 自營商(自行買賣) 2240712830 1480919909 759792921\n",
      "2017-02-08 自營商(避險) 5198727805 4801628248 397099557\n",
      "2017-02-08 投信 2013869990 1519688470 494181520\n",
      "2017-02-08 外資及陸資 41627237488 35997600322 5629637166\n",
      "2017-02-08 合計 51080548113 43799836949 7280711164\n"
     ]
    }
   ],
   "source": [
    "import requests\n",
    "from bs4 import BeautifulSoup\n",
    "from datetime import date,timedelta\n",
    "url = 'http://www.twse.com.tw/ch/trading/fund/BFI82U/BFI82U.php?download=&queryDWM=by_issueD&qdate={0}&query_yearW=2017&query_week=20170206&query_yearM=2017&query_monthM=2'\n",
    "def money_conversion(input_ele):\n",
    "    return int(''.join(input_ele.split(',')))\n",
    "def getTradeValue(today):\n",
    "    dayary=str(today).split('-')\n",
    "    dt = '%2F'.join([str(int(dayary[0])-1911),dayary[1],dayary[2]])\n",
    "    res = requests.get(url.format(dt))\n",
    "    soup = BeautifulSoup(res.text)\n",
    "    for tr in soup.select('table tr')[2:]:\n",
    "        td = tr.select('td')\n",
    "        print(today,\n",
    "              td[0].text,\n",
    "              money_conversion(td[1].text),\n",
    "              money_conversion(td[2].text),\n",
    "              money_conversion(td[3].text))\n",
    "today = date.today()    \n",
    "for i in range(1,4):\n",
    "    today = today+timedelta(days=-1)    \n",
    "    getTradeValue(today)"
   ]
  },
  {
   "cell_type": "code",
   "execution_count": 7,
   "metadata": {
    "collapsed": false
   },
   "outputs": [
    {
     "data": {
      "text/plain": [
       "5198727"
      ]
     },
     "execution_count": 7,
     "metadata": {},
     "output_type": "execute_result"
    }
   ],
   "source": [
    "a=' 5,198,727'\n",
    "    \n",
    "def money_conversion(input_ele):\n",
    "    return int(''.join(input_ele.split(',')))\n",
    "money_conversion(a)"
   ]
  }
 ],
 "metadata": {
  "anaconda-cloud": {},
  "kernelspec": {
   "display_name": "Python [conda root]",
   "language": "python",
   "name": "conda-root-py"
  },
  "language_info": {
   "codemirror_mode": {
    "name": "ipython",
    "version": 3
   },
   "file_extension": ".py",
   "mimetype": "text/x-python",
   "name": "python",
   "nbconvert_exporter": "python",
   "pygments_lexer": "ipython3",
   "version": "3.5.2"
  }
 },
 "nbformat": 4,
 "nbformat_minor": 1
}
