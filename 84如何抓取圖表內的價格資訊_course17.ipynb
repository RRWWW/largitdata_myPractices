{
 "cells": [
  {
   "cell_type": "code",
   "execution_count": 3,
   "metadata": {
    "collapsed": false
   },
   "outputs": [
    {
     "name": "stdout",
     "output_type": "stream",
     "text": [
      "{'data': [[1486684800000, '0.939258'], [1486598400000, '0.936163'], [1486512000000, '0.936601'], [1486425600000, '0.934510'], [1486339200000, '0.929601'], [1486252800000, '0.926733'], [1486166400000, '0.926758'], [1486080000000, '0.929299'], [1485993600000, '0.926681'], [1485907200000, '0.927463'], [1485820800000, '0.931784'], [1485734400000, '0.934649'], [1485648000000, '0.934335'], [1485561600000, '0.934352'], [1485475200000, '0.935874'], [1485388800000, '0.932297'], [1485302400000, '0.931498'], [1485216000000, '0.930215'], [1485129600000, '0.931689'], [1485043200000, '0.934143'], [1484956800000, '0.934169'], [1484870400000, '0.937321'], [1484784000000, '0.939920'], [1484697600000, '0.935646'], [1484611200000, '0.938034'], [1484524800000, '0.942534'], [1484438400000, '0.939117'], [1484352000000, '0.939144'], [1484265600000, '0.940875']]}\n"
     ]
    }
   ],
   "source": [
    "import requests\n",
    "import re\n",
    "import json\n",
    "res = requests.get('https://www.oanda.com/lang/cns/currency/historical-rates/')\n",
    "# \"data\":[[\n",
    "# \"data\":\\[\\[\n",
    "# \"data\":\\[\\[.*\n",
    "# \"data\":\\[\\[.*]]\n",
    "# \"data\":\\[\\[.*\\]\\]\n",
    "# (\"data\":\\[\\[.*\\]\\])\n",
    "m = re.search('(\"data\":\\[\\[.*\\]\\])',res.text)\n",
    "data = json.loads('{'+m.group(1)+'}')\n",
    "print(data)"
   ]
  }
 ],
 "metadata": {
  "anaconda-cloud": {},
  "kernelspec": {
   "display_name": "Python [conda root]",
   "language": "python",
   "name": "conda-root-py"
  },
  "language_info": {
   "codemirror_mode": {
    "name": "ipython",
    "version": 3
   },
   "file_extension": ".py",
   "mimetype": "text/x-python",
   "name": "python",
   "nbconvert_exporter": "python",
   "pygments_lexer": "ipython3",
   "version": "3.5.2"
  }
 },
 "nbformat": 4,
 "nbformat_minor": 1
}
