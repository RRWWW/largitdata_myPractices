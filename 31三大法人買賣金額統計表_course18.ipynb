{
 "cells": [
  {
   "cell_type": "code",
   "execution_count": 17,
   "metadata": {
    "collapsed": false
   },
   "outputs": [
    {
     "name": "stdout",
     "output_type": "stream",
     "text": [
      "自營商(自行買賣)\n",
      "2,240,712,830\n",
      "1,480,919,909\n",
      "759,792,921\n",
      "自營商(避險)\n",
      "5,198,727,805\n",
      "4,801,628,248\n",
      "397,099,557\n",
      "投信\n",
      "2,013,869,990\n",
      "1,519,688,470\n",
      "494,181,520\n",
      "外資及陸資\n",
      "41,627,237,488\n",
      "35,997,600,322\n",
      "5,629,637,166\n",
      "合計\n",
      "51,080,548,113\n",
      "43,799,836,949\n",
      "7,280,711,164\n"
     ]
    },
    {
     "name": "stderr",
     "output_type": "stream",
     "text": [
      "C:\\Program Files\\Anaconda3\\lib\\site-packages\\bs4\\__init__.py:181: UserWarning: No parser was explicitly specified, so I'm using the best available HTML parser for this system (\"lxml\"). This usually isn't a problem, but if you run this code on another system, or in a different virtual environment, it may use a different parser and behave differently.\n",
      "\n",
      "The code that caused this warning is on line 184 of the file C:\\Program Files\\Anaconda3\\lib\\runpy.py. To get rid of this warning, change code that looks like this:\n",
      "\n",
      " BeautifulSoup([your markup])\n",
      "\n",
      "to this:\n",
      "\n",
      " BeautifulSoup([your markup], \"lxml\")\n",
      "\n",
      "  markup_type=markup_type))\n"
     ]
    }
   ],
   "source": [
    "import requests\n",
    "from bs4 import BeautifulSoup\n",
    "viewParsed = '?download=&queryDWM=by_issueD&qdate=106%2F02%2F10&query_yearW=2017&query_week=20170206&query_yearM=2017&query_monthM=2'\n",
    "res = requests.get('http://www.twse.com.tw/ch/trading/fund/BFI82U/BFI82U.php'+viewParsed)\n",
    "#print(res.encoding)\n",
    "#print (res.text)\n",
    "soup = BeautifulSoup(res.text)\n",
    "for tr in soup.select('table tr')[2:]:\n",
    "    for td in tr.select('td'):\n",
    "        print(td.text)"
   ]
  },
  {
   "cell_type": "code",
   "execution_count": 18,
   "metadata": {
    "collapsed": false
   },
   "outputs": [
    {
     "name": "stdout",
     "output_type": "stream",
     "text": [
      "自營商(自行買賣) 2,240,712,830 1,480,919,909 759,792,921\n",
      "自營商(避險) 5,198,727,805 4,801,628,248 397,099,557\n",
      "投信 2,013,869,990 1,519,688,470 494,181,520\n",
      "外資及陸資 41,627,237,488 35,997,600,322 5,629,637,166\n",
      "合計 51,080,548,113 43,799,836,949 7,280,711,164\n"
     ]
    },
    {
     "name": "stderr",
     "output_type": "stream",
     "text": [
      "C:\\Program Files\\Anaconda3\\lib\\site-packages\\bs4\\__init__.py:181: UserWarning: No parser was explicitly specified, so I'm using the best available HTML parser for this system (\"lxml\"). This usually isn't a problem, but if you run this code on another system, or in a different virtual environment, it may use a different parser and behave differently.\n",
      "\n",
      "The code that caused this warning is on line 184 of the file C:\\Program Files\\Anaconda3\\lib\\runpy.py. To get rid of this warning, change code that looks like this:\n",
      "\n",
      " BeautifulSoup([your markup])\n",
      "\n",
      "to this:\n",
      "\n",
      " BeautifulSoup([your markup], \"lxml\")\n",
      "\n",
      "  markup_type=markup_type))\n"
     ]
    }
   ],
   "source": [
    "import requests\n",
    "from bs4 import BeautifulSoup\n",
    "viewParsed = '?download=&queryDWM=by_issueD&qdate=106%2F02%2F10&query_yearW=2017&query_week=20170206&query_yearM=2017&query_monthM=2'\n",
    "res = requests.get('http://www.twse.com.tw/ch/trading/fund/BFI82U/BFI82U.php'+viewParsed)\n",
    "#print(res.encoding)\n",
    "#print (res.text)\n",
    "soup = BeautifulSoup(res.text)\n",
    "for tr in soup.select('table tr')[2:]:\n",
    "    td = tr.select('td')\n",
    "    print(td[0].text,td[1].text,td[2].text,td[3].text)"
   ]
  },
  {
   "cell_type": "code",
   "execution_count": 21,
   "metadata": {
    "collapsed": false
   },
   "outputs": [
    {
     "name": "stdout",
     "output_type": "stream",
     "text": [
      "2017-02-10\n",
      "2017-02-11\n",
      "2017-02-12\n"
     ]
    }
   ],
   "source": [
    "from datetime import date,timedelta\n",
    "print(date.today()+timedelta(days=-1))\n",
    "print(date.today())\n",
    "print(date.today()+timedelta(days=1))"
   ]
  },
  {
   "cell_type": "code",
   "execution_count": 27,
   "metadata": {
    "collapsed": false
   },
   "outputs": [
    {
     "name": "stdout",
     "output_type": "stream",
     "text": [
      "106-02-10\n",
      "106-02-09\n",
      "106-02-08\n",
      "106-02-07\n",
      "106-02-06\n",
      "106-02-05\n",
      "106-02-04\n",
      "106-02-03\n",
      "106-02-02\n"
     ]
    }
   ],
   "source": [
    "from datetime import date,timedelta\n",
    "today = date.today()\n",
    "for i in range(1,10):\n",
    "    today = today+timedelta(days=-1)\n",
    "    dayary=str(today).split('-')\n",
    "    print('-'.join([str(int(dayary[0])-1911),dayary[1],dayary[2]]))"
   ]
  },
  {
   "cell_type": "code",
   "execution_count": null,
   "metadata": {
    "collapsed": true
   },
   "outputs": [],
   "source": []
  }
 ],
 "metadata": {
  "anaconda-cloud": {},
  "kernelspec": {
   "display_name": "Python [conda root]",
   "language": "python",
   "name": "conda-root-py"
  },
  "language_info": {
   "codemirror_mode": {
    "name": "ipython",
    "version": 3
   },
   "file_extension": ".py",
   "mimetype": "text/x-python",
   "name": "python",
   "nbconvert_exporter": "python",
   "pygments_lexer": "ipython3",
   "version": "3.5.2"
  }
 },
 "nbformat": 4,
 "nbformat_minor": 1
}
