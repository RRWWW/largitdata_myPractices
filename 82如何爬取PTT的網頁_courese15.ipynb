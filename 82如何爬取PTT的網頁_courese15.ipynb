{
 "cells": [
  {
   "cell_type": "code",
   "execution_count": 8,
   "metadata": {
    "collapsed": true
   },
   "outputs": [
    {
     "name": "stdout",
     "output_type": "stream",
     "text": [
      "\n",
      "[食記] 台北中山站長鼻子泰國餐廳 餐好吃\n",
      "  2/11 essence165\n",
      "\n",
      "[食記] [台北東區]廣安樓港式粵菜[捷運台北101站\n",
      "  2/11 hidyyang\n",
      "\n",
      "[食記] 台北新東南海鮮 澎湃海味果然名不虛傳\n",
      "  2/11 aner\n",
      "\n",
      "[食記] 高雄前金區 麵屋一晴\n",
      "  2/11 rabbit77610\n",
      "\n",
      "[食記] 台中。東勢老祖早餐，40年的人氣灌蛋餅\n",
      "  2/11 martin0912\n",
      "\n",
      "[食記] 台中西屯 醜比頭森林鍋物探訪\n",
      "  2/11 hyde330\n",
      "\n",
      "[食記] 胡志明市-三福樓, 高貴小貴的港式飲茶\n",
      "  2/11 LeeGiKwang\n",
      "\n",
      "Fw: [食記] 花蓮吉安 Boom Burger~濃濃工業風格的平價美式漢堡\n",
      "  2/11 shangyikuo\n",
      "\n",
      "[食記] 韓國釜山 TARR TARR 夢幻水果塔名店\n",
      "  2/11 terry910134\n",
      "\n",
      "[食記] 台中西區 Fermento發酵 質感法式甜點店\n",
      "  2/11 livia5491\n",
      "\n",
      "[食記] 中壢炸雞|好吃多汁|胖老爹美式炸雞元化店\n",
      "  2/11 dong1104\n",
      "\n",
      "[食記] 台中 Smart 19 Bakery。夢幻水果巧克力磚\n",
      "  2/11 leafphoto\n",
      "\n",
      "[食記] 淡水。姜記小舖只賣吐司的排隊小店\n",
      "  2/11 yopalit\n",
      "\n",
      "[食記] [台中]清水圓仔湯，隱藏在巷子內的湯圓店\n",
      "  2/11 buuzkuo\n",
      "\n",
      "[廣宣] 台北大安 日式復古小店-手質風森\n",
      "  2/11 tristawang\n",
      "\n",
      "[公告] Food板 板規 V3.8\n",
      " 12/16 Dilbert\n",
      "\n",
      "精華區使用方法  【重要！新手必看！】\n",
      " 11/18 Yawper\n",
      "\n",
      "[公告] 發文請在標題加上地區及提供地址電話。^^\n",
      "  9/28 bluefish\n",
      "\n",
      "[公告] 文章被刪除者請洽精華區的資源回收桶\n",
      " 10/01 Dilbert\n"
     ]
    },
    {
     "name": "stderr",
     "output_type": "stream",
     "text": [
      "C:\\Program Files\\Anaconda3\\lib\\site-packages\\bs4\\__init__.py:181: UserWarning: No parser was explicitly specified, so I'm using the best available HTML parser for this system (\"lxml\"). This usually isn't a problem, but if you run this code on another system, or in a different virtual environment, it may use a different parser and behave differently.\n",
      "\n",
      "The code that caused this warning is on line 184 of the file C:\\Program Files\\Anaconda3\\lib\\runpy.py. To get rid of this warning, change code that looks like this:\n",
      "\n",
      " BeautifulSoup([your markup])\n",
      "\n",
      "to this:\n",
      "\n",
      " BeautifulSoup([your markup], \"lxml\")\n",
      "\n",
      "  markup_type=markup_type))\n"
     ]
    }
   ],
   "source": [
    "import requests\n",
    "from bs4 import BeautifulSoup\n",
    "#繞過憑證\n",
    "#res = requests.get('https://www.ptt.cc/bbs/Food/index.html',verify=False)\n",
    "res = requests.get('https://www.ptt.cc/bbs/Food/index.html')\n",
    "soup = BeautifulSoup(res.text)\n",
    "#print(soup.select('.r-ent'))\n",
    "for entry in soup.select('.r-ent'):\n",
    "    print(entry.select('.title')[0].text,entry.select('.date')[0].text,entry.select('.author')[0].text)"
   ]
  },
  {
   "cell_type": "code",
   "execution_count": 14,
   "metadata": {
    "collapsed": false
   },
   "outputs": [
    {
     "name": "stderr",
     "output_type": "stream",
     "text": [
      "C:\\Program Files\\Anaconda3\\lib\\site-packages\\bs4\\__init__.py:181: UserWarning: No parser was explicitly specified, so I'm using the best available HTML parser for this system (\"lxml\"). This usually isn't a problem, but if you run this code on another system, or in a different virtual environment, it may use a different parser and behave differently.\n",
      "\n",
      "The code that caused this warning is on line 184 of the file C:\\Program Files\\Anaconda3\\lib\\runpy.py. To get rid of this warning, change code that looks like this:\n",
      "\n",
      " BeautifulSoup([your markup])\n",
      "\n",
      "to this:\n",
      "\n",
      " BeautifulSoup([your markup], \"lxml\")\n",
      "\n",
      "  markup_type=markup_type))\n"
     ]
    },
    {
     "name": "stdout",
     "output_type": "stream",
     "text": [
      "\n",
      "[新聞] 女被鞭刑5下 馬上倒在行刑台上\n",
      "  2/11 howardhope\n",
      "\n",
      "[新聞] 台南元宵地震瘋傳去年樓倒照　賴神下令追\n",
      "  2/11 rian19910123\n",
      "\n",
      "[問卦] 天氣冷 水水都怎保暖？\n",
      "  2/11 rockon15\n",
      "\n",
      "Re: [爆卦] 衛福部研擬將甲甲永世不得捐血修為五年\n",
      "  2/11 enogod\n",
      "\n",
      "[新聞] 酒駕爛醉撞廟會　駕駛信眾5人傷\n",
      "  2/11 StarFox0910\n",
      "\n",
      "[問卦] 8+9的武器限制?\n",
      "  2/11 leom1a210343\n",
      "\n",
      "[新聞] 哈佛洋博士鍾情中華文化　賣華人古董傳\n",
      "  2/11 mean\n",
      "\n",
      "[新聞] 男分飾兩角性侵女房仲 判刑4年10月\n",
      "  2/11 Davichi5566\n",
      "\n",
      "[新聞] 馬英九談法治 質疑黨產會違憲\n",
      "  2/11 ButterMyAss\n",
      "\n",
      "[問卦] 不支持台灣是最大贏家就是狗報的八卦?\n",
      "  2/11 Lyrics\n",
      "\n",
      "[爆卦] 棉被會咬人\n",
      "  2/11 poco0960\n",
      "\n",
      "Re: [新聞] 白宮證實：川普習近平通話談一中\n",
      "  2/11 LinRungChuan\n",
      "\n",
      "[問卦] 在八卦版貼歐陽娜娜新聞的在想什麼？\n",
      "  2/11 KurtZouma\n",
      "\n",
      "[問卦] 剛吃3碗湯圓做kk超燃脂8下有用嗎？\n",
      "  2/11 signm\n",
      "\n",
      "[問卦] 要怎樣變張3出來？\n",
      "  2/11 wasijohn\n",
      "\n",
      "Re: [爆卦] 衛福部研擬將甲甲永世不得捐血修為五年\n",
      "  2/11 kiesoIFRS\n",
      "\n",
      "[公告] 八卦板板規(2016.08.16)\n",
      "  8/16 Bignana\n",
      "\n",
      "Fw: [公告] ===投票開始===(風雲人物&流行語大賞)\n",
      "  2/04 a3225737\n",
      "\n",
      "[公告] 發錢文之規範投票\n",
      "  2/09 kasion\n",
      "\n",
      "[公告] ω第十三屆八卦板主複賽投票ω\n",
      "  2/10 kasion\n",
      "\n",
      "[公告] 二月份置底閒聊區\n",
      "  2/01 staff23\n"
     ]
    }
   ],
   "source": [
    "import requests\n",
    "from bs4 import BeautifulSoup\n",
    "payload = {\n",
    "'from':'/bbs/Gossiping/index.html',\n",
    "'yes':'yes'\n",
    "}\n",
    "rs = requests.session()\n",
    "res = rs.post('https://www.ptt.cc/ask/over18',data=payload)\n",
    "res = rs.get('https://www.ptt.cc/bbs/Gossiping/index.html')\n",
    "soup = BeautifulSoup(res.text)\n",
    "for entry in soup.select('.r-ent'):\n",
    "    print(entry.select('.title')[0].text,entry.select('.date')[0].text,entry.select('.author')[0].text)"
   ]
  },
  {
   "cell_type": "code",
   "execution_count": null,
   "metadata": {
    "collapsed": true
   },
   "outputs": [],
   "source": []
  },
  {
   "cell_type": "code",
   "execution_count": null,
   "metadata": {
    "collapsed": true
   },
   "outputs": [],
   "source": []
  },
  {
   "cell_type": "code",
   "execution_count": null,
   "metadata": {
    "collapsed": true
   },
   "outputs": [],
   "source": []
  }
 ],
 "metadata": {
  "anaconda-cloud": {},
  "kernelspec": {
   "display_name": "Python [conda root]",
   "language": "python",
   "name": "conda-root-py"
  },
  "language_info": {
   "codemirror_mode": {
    "name": "ipython",
    "version": 3
   },
   "file_extension": ".py",
   "mimetype": "text/x-python",
   "name": "python",
   "nbconvert_exporter": "python",
   "pygments_lexer": "ipython3",
   "version": "3.5.2"
  }
 },
 "nbformat": 4,
 "nbformat_minor": 1
}
