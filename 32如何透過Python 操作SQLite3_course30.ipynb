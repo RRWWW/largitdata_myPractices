{
 "cells": [
  {
   "cell_type": "code",
   "execution_count": 9,
   "metadata": {
    "collapsed": false
   },
   "outputs": [
    {
     "name": "stdout",
     "output_type": "stream",
     "text": [
      "None\n"
     ]
    }
   ],
   "source": [
    "import sqlite3 as lite\n",
    "con = lite.connect('C:/Users/MT4/Documents/finance.sqlite')\n",
    "cur = con.cursor()\n",
    "cur.execute(\"select * from InvestorTradingValue\")\n",
    "ret = cur.fetchone()\n",
    "print(ret)"
   ]
  },
  {
   "cell_type": "code",
   "execution_count": 7,
   "metadata": {
    "collapsed": true
   },
   "outputs": [],
   "source": [
    "import sqlite3 as lite\n",
    "con = lite.connect('C:/Users/MT4/Documents/finance.sqlite')\n",
    "cur = con.cursor()\n",
    "#cur.execute(\"select * from InvestorTradingValue\")\n",
    "#ret = cur.fetchone()\n",
    "#print(ret)\n",
    "cur.execute(\"insert into InvestorTradingValue\"\n",
    "           \"(item, total_buy, total_sell, difference, date)\"\n",
    "           \"values('foreign',20,30,-10,'2099-09-09')\")\n",
    "con.commit()\n",
    "con.close()"
   ]
  },
  {
   "cell_type": "code",
   "execution_count": null,
   "metadata": {
    "collapsed": true
   },
   "outputs": [],
   "source": []
  }
 ],
 "metadata": {
  "anaconda-cloud": {},
  "kernelspec": {
   "display_name": "Python [conda root]",
   "language": "python",
   "name": "conda-root-py"
  },
  "language_info": {
   "codemirror_mode": {
    "name": "ipython",
    "version": 3
   },
   "file_extension": ".py",
   "mimetype": "text/x-python",
   "name": "python",
   "nbconvert_exporter": "python",
   "pygments_lexer": "ipython3",
   "version": "3.5.2"
  }
 },
 "nbformat": 4,
 "nbformat_minor": 1
}
